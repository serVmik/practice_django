{
 "cells": [
  {
   "cell_type": "code",
   "execution_count": 2,
   "id": "413a00b3",
   "metadata": {},
   "outputs": [],
   "source": [
    "from django.db import models\n",
    "\n",
    "from blog.models import Post"
   ]
  },
  {
   "cell_type": "code",
   "execution_count": 3,
   "id": "742277fb",
   "metadata": {},
   "outputs": [
    {
     "data": {
      "text/plain": [
       "'\\nfruit = Fruit.objects.create(name=\"Apple\")\\nfruit.name = \"Pear\"\\nfruit.save()\\nFruit.objects.values_list(\"name\", flat=True)\\n<QuerySet [\\'Apple\\', \\'Pear\\']>\\n'"
      ]
     },
     "execution_count": 3,
     "metadata": {},
     "output_type": "execute_result"
    }
   ],
   "source": [
    "\"\"\"\n",
    ">>> fruit = Fruit.objects.create(name=\"Apple\")\n",
    ">>> fruit.name = \"Pear\"\n",
    ">>> fruit.save()\n",
    ">>> Fruit.objects.values_list(\"name\", flat=True)\n",
    "<QuerySet ['Apple', 'Pear']>\n",
    "\"\"\""
   ]
  },
  {
   "cell_type": "code",
   "execution_count": 4,
   "id": "015c80ff",
   "metadata": {},
   "outputs": [],
   "source": [
    "\"\"\"\n",
    ">>> fruit = Fruit.objects.create(name=\"Apple\")\n",
    ">>> fruit.name = \"Pear\"\n",
    ">>> fruit.save()\n",
    ">>> Fruit.objects.values_list(\"name\", flat=True)\n",
    "<QuerySet ['Apple', 'Pear']>\n",
    "\"\"\"\n",
    "\n",
    "\n",
    "post_test_title = Post.objects.create(title='ok')\n",
    "post_test_title.title = 'super'\n",
    "post_test_title.save()\n",
    "\n"
   ]
  },
  {
   "cell_type": "code",
   "execution_count": 5,
   "id": "dd1f4bff",
   "metadata": {},
   "outputs": [
    {
     "data": {
      "text/plain": [
       "<QuerySet ['super']>"
      ]
     },
     "execution_count": 5,
     "metadata": {},
     "output_type": "execute_result"
    }
   ],
   "source": [
    "Post.objects.values_list('title', flat=True)"
   ]
  }
 ],
 "metadata": {
  "kernelspec": {
   "display_name": "Django Shell-Plus",
   "language": "python",
   "name": "django_extensions"
  },
  "language_info": {
   "codemirror_mode": {
    "name": "ipython",
    "version": 3
   },
   "file_extension": ".py",
   "mimetype": "text/x-python",
   "name": "python",
   "nbconvert_exporter": "python",
   "pygments_lexer": "ipython3",
   "version": "3.10.12"
  }
 },
 "nbformat": 4,
 "nbformat_minor": 5
}
